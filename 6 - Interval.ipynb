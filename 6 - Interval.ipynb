{
 "cells": [
  {
   "cell_type": "markdown",
   "id": "987e7324",
   "metadata": {},
   "source": [
    "# The interval updating mode\n",
    "\n",
    "Similarly to the [5 - Memory](5%20-%20Memory.ipynb) notebook, we use `minibn` to implement the *interval* updating mode ([Chatain et al., 2018](https://doi.org/10.1007/978-3-319-92675-9_3),[Paulevé and Sené, 2021](https://doi.org/10.4230/OASIcs.AUTOMATA.2021.10))."
   ]
  },
  {
   "cell_type": "code",
   "execution_count": 1,
   "id": "4f4987cf",
   "metadata": {
    "execution": {
     "iopub.execute_input": "2022-08-05T10:51:58.083257Z",
     "iopub.status.busy": "2022-08-05T10:51:58.082370Z",
     "iopub.status.idle": "2022-08-05T10:51:58.637651Z",
     "shell.execute_reply": "2022-08-05T10:51:58.637180Z"
    }
   },
   "outputs": [
    {
     "data": {
      "text/markdown": [
       "This notebook has been executed using the docker image `colomoto/colomoto-docker:2022-07-01`"
      ],
      "text/plain": [
       "<IPython.core.display.Markdown object>"
      ]
     },
     "metadata": {},
     "output_type": "display_data"
    }
   ],
   "source": [
    "from colomoto.minibn import *"
   ]
  },
  {
   "cell_type": "markdown",
   "id": "4d2e31c4",
   "metadata": {},
   "source": [
    "The interval updating mode has no parameter. We use the notations of Def.10 of ([Paulevé and Sené, 2021](https://doi.org/10.4230/OASIcs.AUTOMATA.2021.10))."
   ]
  },
  {
   "cell_type": "code",
   "execution_count": 2,
   "id": "cef6ba12",
   "metadata": {
    "execution": {
     "iopub.execute_input": "2022-08-05T10:51:58.639783Z",
     "iopub.status.busy": "2022-08-05T10:51:58.639642Z",
     "iopub.status.idle": "2022-08-05T10:51:58.645146Z",
     "shell.execute_reply": "2022-08-05T10:51:58.644746Z"
    }
   },
   "outputs": [],
   "source": [
    "class IntervalDynamics(UpdateModeDynamics):\n",
    "    def __call__(self, x):\n",
    "        \n",
    "        # translating dictionnary to tuples\n",
    "        def e(x):\n",
    "            return tuple((x[i] for i in self.nodes))\n",
    "        def E(ex):\n",
    "            return dict(zip(self.nodes, ex))\n",
    "        def f(ex):\n",
    "            return e(self.model(E(ex)))\n",
    "\n",
    "        def Phi(L, X):\n",
    "            Y = set()\n",
    "            J = set(range(self.n)).difference(L)\n",
    "            if not J: return Y\n",
    "            for x in X:\n",
    "                y = f(x)\n",
    "                I = (i for i in J if y[i] != x[i])\n",
    "                for i in I:\n",
    "                    Y.update(Phi_i(L, i, x))\n",
    "            return Y\n",
    "        def Phi_omega(L, X):\n",
    "            Y = set()\n",
    "            while X:\n",
    "                Y.update(X)\n",
    "                X = Phi(L, X)\n",
    "                X = X.difference(Y)\n",
    "            return Y\n",
    "        def flip(x, i):\n",
    "            z = list(x)\n",
    "            z[i] = 1-z[i]\n",
    "            return tuple(z)\n",
    "        def Phi_i(L, i, x):\n",
    "            L = L.union({i})\n",
    "            return {flip(y, i) for y in Phi_omega(L, {x})}\n",
    "        \n",
    "        for y in Phi(set(), {e(x)}):\n",
    "            yield E(y)"
   ]
  },
  {
   "cell_type": "code",
   "execution_count": 3,
   "id": "f3cf38ee",
   "metadata": {
    "execution": {
     "iopub.execute_input": "2022-08-05T10:51:58.646800Z",
     "iopub.status.busy": "2022-08-05T10:51:58.646664Z",
     "iopub.status.idle": "2022-08-05T10:51:58.649824Z",
     "shell.execute_reply": "2022-08-05T10:51:58.649480Z"
    }
   },
   "outputs": [
    {
     "data": {
      "text/plain": [
       "x1 <- !x3\n",
       "x2 <- !x1&x3\n",
       "x3 <- !x1"
      ]
     },
     "execution_count": 3,
     "metadata": {},
     "output_type": "execute_result"
    }
   ],
   "source": [
    "f = BooleanNetwork({\n",
    "    \"x1\": \"!x3\",\n",
    "    \"x2\": \"!x1 & x3\",\n",
    "    \"x3\": \"!x1\",\n",
    "})\n",
    "f"
   ]
  },
  {
   "cell_type": "markdown",
   "id": "a6ca2c3b",
   "metadata": {},
   "source": [
    "The following code reproduces Fig 3(center) of ([Paulevé and Sené, 2021](https://doi.org/10.4230/OASIcs.AUTOMATA.2021.10)):"
   ]
  },
  {
   "cell_type": "code",
   "execution_count": 4,
   "id": "c2e40699",
   "metadata": {
    "execution": {
     "iopub.execute_input": "2022-08-05T10:51:58.651419Z",
     "iopub.status.busy": "2022-08-05T10:51:58.651290Z",
     "iopub.status.idle": "2022-08-05T10:51:58.759863Z",
     "shell.execute_reply": "2022-08-05T10:51:58.759374Z"
    }
   },
   "outputs": [
    {
     "name": "stdout",
     "output_type": "stream",
     "text": [
      "# computing graph layout...\n"
     ]
    },
    {
     "data": {
      "image/svg+xml": [
       "<?xml version=\"1.0\" encoding=\"UTF-8\" standalone=\"no\"?>\n",
       "<!DOCTYPE svg PUBLIC \"-//W3C//DTD SVG 1.1//EN\"\n",
       " \"http://www.w3.org/Graphics/SVG/1.1/DTD/svg11.dtd\">\n",
       "<!-- Generated by graphviz version 3.0.0 (20220315.2325)\n",
       " -->\n",
       "<!-- Pages: 1 -->\n",
       "<svg width=\"360pt\" height=\"404pt\"\n",
       " viewBox=\"0.00 0.00 359.60 404.00\" xmlns=\"http://www.w3.org/2000/svg\" xmlns:xlink=\"http://www.w3.org/1999/xlink\">\n",
       "<g id=\"graph0\" class=\"graph\" transform=\"scale(1 1) rotate(0) translate(4 400)\">\n",
       "<polygon fill=\"white\" stroke=\"transparent\" points=\"-4,4 -4,-400 355.6,-400 355.6,4 -4,4\"/>\n",
       "<!-- 000 -->\n",
       "<g id=\"node1\" class=\"node\">\n",
       "<title>000</title>\n",
       "<ellipse fill=\"none\" stroke=\"black\" cx=\"209\" cy=\"-378\" rx=\"28.7\" ry=\"18\"/>\n",
       "<text text-anchor=\"middle\" x=\"209\" y=\"-374.3\" font-family=\"Times,serif\" font-size=\"14.00\">000</text>\n",
       "</g>\n",
       "<!-- 100 -->\n",
       "<g id=\"node2\" class=\"node\">\n",
       "<title>100</title>\n",
       "<ellipse fill=\"none\" stroke=\"black\" cx=\"76\" cy=\"-18\" rx=\"28.7\" ry=\"18\"/>\n",
       "<text text-anchor=\"middle\" x=\"76\" y=\"-14.3\" font-family=\"Times,serif\" font-size=\"14.00\">100</text>\n",
       "</g>\n",
       "<!-- 000&#45;&gt;100 -->\n",
       "<g id=\"edge1\" class=\"edge\">\n",
       "<title>000&#45;&gt;100</title>\n",
       "<path fill=\"none\" stroke=\"black\" d=\"M181.68,-371.81C125.02,-359.3 0,-321.86 0,-235 0,-235 0,-235 0,-161 0,-114.12 32.6,-67.74 55.09,-41.31\"/>\n",
       "<polygon fill=\"black\" stroke=\"black\" points=\"57.74,-43.6 61.7,-33.77 52.48,-38.98 57.74,-43.6\"/>\n",
       "</g>\n",
       "<!-- 101 -->\n",
       "<g id=\"node3\" class=\"node\">\n",
       "<title>101</title>\n",
       "<ellipse fill=\"none\" stroke=\"black\" cx=\"209\" cy=\"-306\" rx=\"28.7\" ry=\"18\"/>\n",
       "<text text-anchor=\"middle\" x=\"209\" y=\"-302.3\" font-family=\"Times,serif\" font-size=\"14.00\">101</text>\n",
       "</g>\n",
       "<!-- 000&#45;&gt;101 -->\n",
       "<g id=\"edge2\" class=\"edge\">\n",
       "<title>000&#45;&gt;101</title>\n",
       "<path fill=\"none\" stroke=\"black\" d=\"M203.12,-360.05C202.29,-352.23 202.05,-342.75 202.41,-333.98\"/>\n",
       "<polygon fill=\"black\" stroke=\"black\" points=\"205.92,-334.01 203.14,-323.79 198.93,-333.51 205.92,-334.01\"/>\n",
       "</g>\n",
       "<!-- 001 -->\n",
       "<g id=\"node4\" class=\"node\">\n",
       "<title>001</title>\n",
       "<ellipse fill=\"none\" stroke=\"black\" cx=\"323\" cy=\"-90\" rx=\"28.7\" ry=\"18\"/>\n",
       "<text text-anchor=\"middle\" x=\"323\" y=\"-86.3\" font-family=\"Times,serif\" font-size=\"14.00\">001</text>\n",
       "</g>\n",
       "<!-- 000&#45;&gt;001 -->\n",
       "<g id=\"edge3\" class=\"edge\">\n",
       "<title>000&#45;&gt;001</title>\n",
       "<path fill=\"none\" stroke=\"black\" d=\"M229.36,-365.06C243.78,-355.62 262.52,-341.2 274,-324 317.02,-259.54 323.31,-164.54 323.59,-118.29\"/>\n",
       "<polygon fill=\"black\" stroke=\"black\" points=\"327.09,-118.14 323.56,-108.15 320.09,-118.16 327.09,-118.14\"/>\n",
       "</g>\n",
       "<!-- 111 -->\n",
       "<g id=\"node5\" class=\"node\">\n",
       "<title>111</title>\n",
       "<ellipse fill=\"none\" stroke=\"black\" cx=\"228\" cy=\"-162\" rx=\"28.7\" ry=\"18\"/>\n",
       "<text text-anchor=\"middle\" x=\"228\" y=\"-158.3\" font-family=\"Times,serif\" font-size=\"14.00\">111</text>\n",
       "</g>\n",
       "<!-- 000&#45;&gt;111 -->\n",
       "<g id=\"edge4\" class=\"edge\">\n",
       "<title>000&#45;&gt;111</title>\n",
       "<path fill=\"none\" stroke=\"black\" d=\"M217.14,-360.39C224.36,-350.63 233.63,-337.58 238,-324 252.55,-278.74 239.63,-223.12 231.74,-190.51\"/>\n",
       "<polygon fill=\"black\" stroke=\"black\" points=\"235.04,-189.29 229.3,-180.38 228.24,-190.92 235.04,-189.29\"/>\n",
       "</g>\n",
       "<!-- 101&#45;&gt;000 -->\n",
       "<g id=\"edge7\" class=\"edge\">\n",
       "<title>101&#45;&gt;000</title>\n",
       "<path fill=\"none\" stroke=\"black\" d=\"M214.86,-323.79C215.7,-331.59 215.94,-341.07 215.6,-349.85\"/>\n",
       "<polygon fill=\"black\" stroke=\"black\" points=\"212.09,-349.83 214.88,-360.05 219.07,-350.33 212.09,-349.83\"/>\n",
       "</g>\n",
       "<!-- 101&#45;&gt;100 -->\n",
       "<g id=\"edge5\" class=\"edge\">\n",
       "<title>101&#45;&gt;100</title>\n",
       "<path fill=\"none\" stroke=\"black\" d=\"M186.88,-294.38C170,-285.25 147.29,-270.64 133,-252 85.38,-189.89 76.96,-93.4 75.85,-46.48\"/>\n",
       "<polygon fill=\"black\" stroke=\"black\" points=\"79.34,-46.15 75.7,-36.2 72.34,-46.25 79.34,-46.15\"/>\n",
       "</g>\n",
       "<!-- 101&#45;&gt;001 -->\n",
       "<g id=\"edge8\" class=\"edge\">\n",
       "<title>101&#45;&gt;001</title>\n",
       "<path fill=\"none\" stroke=\"black\" d=\"M221.74,-289.76C240.14,-267.1 274.22,-222.62 295,-180 304.73,-160.04 312.07,-135.93 316.79,-117.85\"/>\n",
       "<polygon fill=\"black\" stroke=\"black\" points=\"320.23,-118.52 319.26,-107.97 313.44,-116.82 320.23,-118.52\"/>\n",
       "</g>\n",
       "<!-- 010 -->\n",
       "<g id=\"node7\" class=\"node\">\n",
       "<title>010</title>\n",
       "<ellipse fill=\"none\" stroke=\"black\" cx=\"171\" cy=\"-234\" rx=\"28.7\" ry=\"18\"/>\n",
       "<text text-anchor=\"middle\" x=\"171\" y=\"-230.3\" font-family=\"Times,serif\" font-size=\"14.00\">010</text>\n",
       "</g>\n",
       "<!-- 101&#45;&gt;010 -->\n",
       "<g id=\"edge6\" class=\"edge\">\n",
       "<title>101&#45;&gt;010</title>\n",
       "<path fill=\"none\" stroke=\"black\" d=\"M195.31,-290.15C189.72,-281.79 183.6,-271.09 178.74,-261.34\"/>\n",
       "<polygon fill=\"black\" stroke=\"black\" points=\"181.79,-259.6 174.36,-252.04 175.45,-262.58 181.79,-259.6\"/>\n",
       "</g>\n",
       "<!-- 011 -->\n",
       "<g id=\"node8\" class=\"node\">\n",
       "<title>011</title>\n",
       "<ellipse fill=\"none\" stroke=\"black\" cx=\"266\" cy=\"-18\" rx=\"28.7\" ry=\"18\"/>\n",
       "<text text-anchor=\"middle\" x=\"266\" y=\"-14.3\" font-family=\"Times,serif\" font-size=\"14.00\">011</text>\n",
       "</g>\n",
       "<!-- 001&#45;&gt;011 -->\n",
       "<g id=\"edge9\" class=\"edge\">\n",
       "<title>001&#45;&gt;011</title>\n",
       "<path fill=\"none\" stroke=\"black\" d=\"M310.35,-73.46C302.9,-64.31 293.32,-52.55 284.98,-42.31\"/>\n",
       "<polygon fill=\"black\" stroke=\"black\" points=\"287.64,-40.04 278.61,-34.49 282.22,-44.46 287.64,-40.04\"/>\n",
       "</g>\n",
       "<!-- 111&#45;&gt;000 -->\n",
       "<g id=\"edge13\" class=\"edge\">\n",
       "<title>111&#45;&gt;000</title>\n",
       "<path fill=\"none\" stroke=\"black\" d=\"M239.5,-178.97C253.78,-208.39 272.45,-272.82 256,-324 252.05,-336.29 244.07,-348.15 235.65,-357.53\"/>\n",
       "<polygon fill=\"black\" stroke=\"black\" points=\"233.05,-355.18 228.55,-364.77 238.05,-360.08 233.05,-355.18\"/>\n",
       "</g>\n",
       "<!-- 111&#45;&gt;100 -->\n",
       "<g id=\"edge14\" class=\"edge\">\n",
       "<title>111&#45;&gt;100</title>\n",
       "<path fill=\"none\" stroke=\"black\" d=\"M220.55,-144.51C211.19,-125.23 193.58,-93.25 171,-72 153.03,-55.09 128.67,-41.64 109.11,-32.52\"/>\n",
       "<polygon fill=\"black\" stroke=\"black\" points=\"110.5,-29.31 99.95,-28.39 107.63,-35.69 110.5,-29.31\"/>\n",
       "</g>\n",
       "<!-- 111&#45;&gt;101 -->\n",
       "<g id=\"edge10\" class=\"edge\">\n",
       "<title>111&#45;&gt;101</title>\n",
       "<path fill=\"none\" stroke=\"black\" d=\"M225.7,-180.19C222.46,-204.42 216.51,-248.89 212.66,-277.68\"/>\n",
       "<polygon fill=\"black\" stroke=\"black\" points=\"209.15,-277.5 211.29,-287.87 216.09,-278.42 209.15,-277.5\"/>\n",
       "</g>\n",
       "<!-- 111&#45;&gt;001 -->\n",
       "<g id=\"edge15\" class=\"edge\">\n",
       "<title>111&#45;&gt;001</title>\n",
       "<path fill=\"none\" stroke=\"black\" d=\"M245.87,-147.83C260.33,-137.18 280.9,-122.02 297.16,-110.04\"/>\n",
       "<polygon fill=\"black\" stroke=\"black\" points=\"299.24,-112.86 305.21,-104.11 295.08,-107.22 299.24,-112.86\"/>\n",
       "</g>\n",
       "<!-- 110 -->\n",
       "<g id=\"node6\" class=\"node\">\n",
       "<title>110</title>\n",
       "<ellipse fill=\"none\" stroke=\"black\" cx=\"133\" cy=\"-90\" rx=\"28.7\" ry=\"18\"/>\n",
       "<text text-anchor=\"middle\" x=\"133\" y=\"-86.3\" font-family=\"Times,serif\" font-size=\"14.00\">110</text>\n",
       "</g>\n",
       "<!-- 111&#45;&gt;110 -->\n",
       "<g id=\"edge11\" class=\"edge\">\n",
       "<title>111&#45;&gt;110</title>\n",
       "<path fill=\"none\" stroke=\"black\" d=\"M210.13,-147.83C195.67,-137.18 175.1,-122.02 158.84,-110.04\"/>\n",
       "<polygon fill=\"black\" stroke=\"black\" points=\"160.92,-107.22 150.79,-104.11 156.76,-112.86 160.92,-107.22\"/>\n",
       "</g>\n",
       "<!-- 111&#45;&gt;010 -->\n",
       "<g id=\"edge12\" class=\"edge\">\n",
       "<title>111&#45;&gt;010</title>\n",
       "<path fill=\"none\" stroke=\"black\" d=\"M220.39,-179.51C213.61,-189.13 203.79,-201.37 194.61,-211.71\"/>\n",
       "<polygon fill=\"black\" stroke=\"black\" points=\"191.94,-209.43 187.77,-219.17 197.1,-214.16 191.94,-209.43\"/>\n",
       "</g>\n",
       "<!-- 111&#45;&gt;011 -->\n",
       "<g id=\"edge16\" class=\"edge\">\n",
       "<title>111&#45;&gt;011</title>\n",
       "<path fill=\"none\" stroke=\"black\" d=\"M232.51,-144.15C239.02,-119.81 251.13,-74.57 258.86,-45.67\"/>\n",
       "<polygon fill=\"black\" stroke=\"black\" points=\"262.29,-46.39 261.5,-35.82 255.53,-44.58 262.29,-46.39\"/>\n",
       "</g>\n",
       "<!-- 110&#45;&gt;100 -->\n",
       "<g id=\"edge17\" class=\"edge\">\n",
       "<title>110&#45;&gt;100</title>\n",
       "<path fill=\"none\" stroke=\"black\" d=\"M120.35,-73.46C112.9,-64.31 103.32,-52.55 94.98,-42.31\"/>\n",
       "<polygon fill=\"black\" stroke=\"black\" points=\"97.64,-40.04 88.61,-34.49 92.22,-44.46 97.64,-40.04\"/>\n",
       "</g>\n",
       "<!-- 010&#45;&gt;000 -->\n",
       "<g id=\"edge20\" class=\"edge\">\n",
       "<title>010&#45;&gt;000</title>\n",
       "<path fill=\"none\" stroke=\"black\" d=\"M167.95,-252.21C165.4,-270.5 163.29,-300.02 171,-324 174.52,-334.95 181.22,-345.55 188.04,-354.35\"/>\n",
       "<polygon fill=\"black\" stroke=\"black\" points=\"185.44,-356.71 194.5,-362.2 190.84,-352.26 185.44,-356.71\"/>\n",
       "</g>\n",
       "<!-- 010&#45;&gt;100 -->\n",
       "<g id=\"edge21\" class=\"edge\">\n",
       "<title>010&#45;&gt;100</title>\n",
       "<path fill=\"none\" stroke=\"black\" d=\"M159.07,-217.34C142.26,-194.53 111.79,-150.25 95,-108 87.09,-88.09 82.22,-64.29 79.4,-46.32\"/>\n",
       "<polygon fill=\"black\" stroke=\"black\" points=\"82.84,-45.62 77.93,-36.23 75.91,-46.63 82.84,-45.62\"/>\n",
       "</g>\n",
       "<!-- 010&#45;&gt;101 -->\n",
       "<g id=\"edge18\" class=\"edge\">\n",
       "<title>010&#45;&gt;101</title>\n",
       "<path fill=\"none\" stroke=\"black\" d=\"M184.72,-249.89C190.32,-258.28 196.45,-269 201.31,-278.75\"/>\n",
       "<polygon fill=\"black\" stroke=\"black\" points=\"198.26,-280.49 205.68,-288.05 204.6,-277.52 198.26,-280.49\"/>\n",
       "</g>\n",
       "<!-- 010&#45;&gt;001 -->\n",
       "<g id=\"edge22\" class=\"edge\">\n",
       "<title>010&#45;&gt;001</title>\n",
       "<path fill=\"none\" stroke=\"black\" d=\"M194.95,-223.61C215.52,-214.67 245.09,-199.67 266,-180 285.32,-161.82 301,-135.79 310.98,-116.57\"/>\n",
       "<polygon fill=\"black\" stroke=\"black\" points=\"314.19,-117.99 315.55,-107.49 307.93,-114.85 314.19,-117.99\"/>\n",
       "</g>\n",
       "<!-- 010&#45;&gt;111 -->\n",
       "<g id=\"edge23\" class=\"edge\">\n",
       "<title>010&#45;&gt;111</title>\n",
       "<path fill=\"none\" stroke=\"black\" d=\"M178.67,-216.41C185.39,-206.87 195.09,-194.79 204.19,-184.53\"/>\n",
       "<polygon fill=\"black\" stroke=\"black\" points=\"206.81,-186.85 210.97,-177.11 201.64,-182.13 206.81,-186.85\"/>\n",
       "</g>\n",
       "<!-- 010&#45;&gt;110 -->\n",
       "<g id=\"edge19\" class=\"edge\">\n",
       "<title>010&#45;&gt;110</title>\n",
       "<path fill=\"none\" stroke=\"black\" d=\"M166.49,-216.15C159.98,-191.81 147.87,-146.57 140.14,-117.67\"/>\n",
       "<polygon fill=\"black\" stroke=\"black\" points=\"143.47,-116.58 137.5,-107.82 136.71,-118.39 143.47,-116.58\"/>\n",
       "</g>\n",
       "<!-- 010&#45;&gt;011 -->\n",
       "<g id=\"edge24\" class=\"edge\">\n",
       "<title>010&#45;&gt;011</title>\n",
       "<path fill=\"none\" stroke=\"black\" d=\"M172.93,-215.77C175.39,-197.47 180.49,-167.93 190,-144 204.95,-106.37 230.76,-67.13 248.1,-42.88\"/>\n",
       "<polygon fill=\"black\" stroke=\"black\" points=\"251.03,-44.81 254.07,-34.66 245.36,-40.69 251.03,-44.81\"/>\n",
       "</g>\n",
       "</g>\n",
       "</svg>\n"
      ],
      "text/plain": [
       "<networkx.classes.digraph.DiGraph at 0x7fa5e55bc1c0>"
      ]
     },
     "execution_count": 4,
     "metadata": {},
     "output_type": "execute_result"
    }
   ],
   "source": [
    "ui = IntervalDynamics(f).dynamics()\n",
    "ui"
   ]
  },
  {
   "cell_type": "markdown",
   "id": "b4e847fd",
   "metadata": {},
   "source": [
    "The interval dynamics can be strictly larger that the (general) asynchronous one. This is the case of the above example, where the following transitions are not captured by the general asynchronous dynamics:"
   ]
  },
  {
   "cell_type": "code",
   "execution_count": 5,
   "id": "907aac65",
   "metadata": {
    "execution": {
     "iopub.execute_input": "2022-08-05T10:51:58.761818Z",
     "iopub.status.busy": "2022-08-05T10:51:58.761694Z",
     "iopub.status.idle": "2022-08-05T10:51:58.766360Z",
     "shell.execute_reply": "2022-08-05T10:51:58.765938Z"
    }
   },
   "outputs": [
    {
     "data": {
      "text/plain": [
       "{('000', '111'), ('101', '010')}"
      ]
     },
     "execution_count": 5,
     "metadata": {},
     "output_type": "execute_result"
    }
   ],
   "source": [
    "set(ui.edges()).difference(GeneralAsynchronousDynamics(f).dynamics().edges())"
   ]
  },
  {
   "cell_type": "code",
   "execution_count": null,
   "id": "2349e975",
   "metadata": {},
   "outputs": [],
   "source": []
  }
 ],
 "metadata": {
  "kernelspec": {
   "display_name": "Python 3 (ipykernel)",
   "language": "python",
   "name": "python3"
  },
  "language_info": {
   "codemirror_mode": {
    "name": "ipython",
    "version": 3
   },
   "file_extension": ".py",
   "mimetype": "text/x-python",
   "name": "python",
   "nbconvert_exporter": "python",
   "pygments_lexer": "ipython3",
   "version": "3.10.6"
  }
 },
 "nbformat": 4,
 "nbformat_minor": 5
}
